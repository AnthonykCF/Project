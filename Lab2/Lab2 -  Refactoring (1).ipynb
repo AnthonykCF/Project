{
 "cells": [
  {
   "cell_type": "markdown",
   "id": "0209af47-6b8d-4f34-8292-aa79deef5088",
   "metadata": {},
   "source": [
    "# Lab 2 - Refactoring\n",
    "## Refactoring is:\n",
    "\n",
    "Refactoring is the process of restructuring or rewriting code, while not changing its original functionality. The goal of refactoring is to improve internal code by making many small changes without altering the code's external behavior. \n",
    "\n",
    "It is easier said than done. "
   ]
  },
  {
   "cell_type": "raw",
   "id": "7f8c7adc-bc13-4ff8-96d4-f61cb7bc7fc7",
   "metadata": {},
   "source": [
    "### Part 1 - Warm up\n",
    "\n",
    "You will refactor the following code:"
   ]
  },
  {
   "cell_type": "code",
   "execution_count": 3,
   "id": "b817e22e-46ae-4dfe-9a38-c3d3e818168b",
   "metadata": {},
   "outputs": [
    {
     "name": "stdin",
     "output_type": "stream",
     "text": [
      "Enter a number:  4\n"
     ]
    },
    {
     "name": "stdout",
     "output_type": "stream",
     "text": [
      "5 is more than 4\n"
     ]
    }
   ],
   "source": [
    "#stolen from https://realpython.com/python-refactoring/\n",
    "#yes you can go there and look at what they did no do it yourself\n",
    "y = int(input(\"Enter a number: \")); x=5\n",
    "if x < y:\n",
    "    print(f\"{x} is less than {y}\")\n",
    "elif x == y:\n",
    "    print(f\"{x} is equal to {y}\")\n",
    "else:\n",
    "    print(f\"{x} is more than {y}\")"
   ]
  },
  {
   "cell_type": "code",
   "execution_count": null,
   "id": "033cf53c-96bc-4174-813d-09ad088787d6",
   "metadata": {},
   "outputs": [],
   "source": [
    "# put your refactored code here"
   ]
  },
  {
   "cell_type": "markdown",
   "id": "bb9edc37-9bd7-4b4a-8ec1-d1465d85be37",
   "metadata": {},
   "source": [
    "## Part 2\n",
    "Refactor Lab 1 into a function that can be used over and over again"
   ]
  },
  {
   "cell_type": "code",
   "execution_count": 4,
   "id": "733c4d16-c02c-4058-9cb6-4b751c86dc93",
   "metadata": {},
   "outputs": [
    {
     "ename": "SyntaxError",
     "evalue": "expected '(' (2902608631.py, line 2)",
     "output_type": "error",
     "traceback": [
      "\u001b[1;36m  Cell \u001b[1;32mIn[4], line 2\u001b[1;36m\u001b[0m\n\u001b[1;33m    def roll dice(a,b,c)\u001b[0m\n\u001b[1;37m             ^\u001b[0m\n\u001b[1;31mSyntaxError\u001b[0m\u001b[1;31m:\u001b[0m expected '('\n"
     ]
    }
   ],
   "source": [
    "# think \n",
    "def roll dice(a,b,c)\n",
    "    if a >1\n",
    "        roll 1 dice\n",
    "    else\n",
    "        explode\n"
   ]
  },
  {
   "cell_type": "code",
   "execution_count": 6,
   "id": "26ab6cb1-2356-4a78-a811-a65b6f855fac",
   "metadata": {},
   "outputs": [
    {
     "name": "stdin",
     "output_type": "stream",
     "text": [
      "Press 'ENTER' to roll the dice! \n"
     ]
    },
    {
     "name": "stdout",
     "output_type": "stream",
     "text": [
      "Congratulations! You win!\n"
     ]
    },
    {
     "name": "stdin",
     "output_type": "stream",
     "text": [
      "Do you want to see the result? (y/n) y\n"
     ]
    },
    {
     "name": "stdout",
     "output_type": "stream",
     "text": [
      "You rolled: [6, 6, 4, 2, 5] and your total dice roll is: 23\n",
      "Computer rolled: [2, 5, 6, 6, 1] and its total dice roll is: 20\n"
     ]
    },
    {
     "name": "stdin",
     "output_type": "stream",
     "text": [
      "Do you want to play again? (y/n) n\n"
     ]
    }
   ],
   "source": [
    "import random\n",
    "\n",
    "def roll_dice():\n",
    "    return random.randint(1, 6)\n",
    "\n",
    "def main():\n",
    "    while True:\n",
    "        input(\"Press 'ENTER' to roll the dice!\")\n",
    "        \n",
    "        user_dice = [roll_dice() for _ in range(5)]\n",
    "        computer_dice = [roll_dice() for _ in range(5)]\n",
    "        \n",
    "        user_total = sum(user_dice)\n",
    "        computer_total = sum(computer_dice)\n",
    "        \n",
    "        if user_total > computer_total:\n",
    "            print(\"Congratulations! You win!\")\n",
    "        elif user_total < computer_total:\n",
    "            print(\"Sorry, you lost. Better luck next time!\")\n",
    "        else:\n",
    "            print(\"It's a tie!\")\n",
    "        \n",
    "        message = input(\"Do you want to see the result? (y/n)\").strip().lower()\n",
    "        \n",
    "        if message != 'n':\n",
    "            print(f\"You rolled: {user_dice} and your total dice roll is: {user_total}\")\n",
    "            print(f\"Computer rolled: {computer_dice} and its total dice roll is: {computer_total}\")\n",
    "        else:\n",
    "            print(message)\n",
    "        \n",
    "        play_again = input(\"Do you want to play again? (y/n)\").strip().lower()\n",
    "        if play_again != 'y':\n",
    "            break\n",
    "\n",
    "if __name__ == \"__main__\":\n",
    "    main()"
   ]
  },
  {
   "cell_type": "markdown",
   "id": "e589c6c8-f937-47e0-8db2-a37e03c12336",
   "metadata": {},
   "source": [
    "## Part 3 \n",
    "\n",
    "# But first a preview.... \n",
    "# Project #1  WIP This will change... \n",
    "\n",
    "You are project is to create a text based video game player profile, invintory system, and combat system. You must create a realistic player with at least 10 invintory items. Each item must have a discription and a trate assosiated with it. Have fun with this. \n",
    "\n",
    "You must use all items covered thus far (files (read and write), json, operators, lists, tuples(optional), functions, modules and classes)\n",
    "    \n",
    "- The adventure game should have the option to choose your player type\n",
    "  - Upon choosing your player type player atributes must be set ie wizard magic = 10, knight magic = 0 \n",
    "- Write a function to display the invintory of the player. \n",
    "- Write a function to get more detail on an item in the invintory.\n",
    "  - Knife \"forged in the depths of polymar\", +5 magic, edged weapon, one handed etc \n",
    "      - bonus points for calculating bonuses to wepons when equiping and dequiping \n",
    "- Write a function to add and remove items from the invintory\n",
    "- Ensure I am able to close the program and reload the character (ie files)\n",
    "    \n",
    "\n"
   ]
  },
  {
   "cell_type": "markdown",
   "id": "1fe3ba5e-722b-4ed8-b36f-c9ebd718bd7d",
   "metadata": {},
   "source": [
    "# Project 1 - Part 1\n",
    "Spend time planning out your code. You may work with your partner to plan out your code. How would you like your game to play? \n",
    "\n",
    "Use a UML planner like: \n",
    "\n",
    "\n",
    "https://miro.com/\n"
   ]
  },
  {
   "cell_type": "code",
   "execution_count": null,
   "id": "3bdce5be-0a31-4cf9-ba17-0f5be8cefc33",
   "metadata": {},
   "outputs": [],
   "source": []
  }
 ],
 "metadata": {
  "kernelspec": {
   "display_name": "Python 3 (ipykernel)",
   "language": "python",
   "name": "python3"
  },
  "language_info": {
   "codemirror_mode": {
    "name": "ipython",
    "version": 3
   },
   "file_extension": ".py",
   "mimetype": "text/x-python",
   "name": "python",
   "nbconvert_exporter": "python",
   "pygments_lexer": "ipython3",
   "version": "3.11.5"
  }
 },
 "nbformat": 4,
 "nbformat_minor": 5
}
